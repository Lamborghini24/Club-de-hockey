{
 "cells": [
  {
   "cell_type": "markdown",
   "id": "fcfb7877-9fee-4c3f-8f7c-9da8cf2aaa50",
   "metadata": {},
   "source": [
    "# Ejercicio 10: Equipo de Hockey"
   ]
  },
  {
   "cell_type": "markdown",
   "id": "e4edfedb-86d8-4d42-a273-1e63f85ac0b8",
   "metadata": {},
   "source": [
    "### Importacion de modulo externo"
   ]
  },
  {
   "cell_type": "code",
   "execution_count": 1,
   "id": "6bef473b-6928-49a3-869f-100d03ef6fd6",
   "metadata": {},
   "outputs": [],
   "source": [
    "import moduloOperador"
   ]
  },
  {
   "cell_type": "markdown",
   "id": "ab91b2fd-8587-425c-bb46-0fbfac791597",
   "metadata": {},
   "source": [
    "### Carga de estadisticas en listas y de nombres en un String"
   ]
  },
  {
   "cell_type": "code",
   "execution_count": 2,
   "id": "852ebad7-f24a-4fb5-921b-58dd17d4af37",
   "metadata": {},
   "outputs": [],
   "source": [
    "names = \"\"\"Agustin, Yanina, Andrés, Ariadna, Bautista, CAROLINA, CESAR, David, Diego, Dolores, DYLAN, ELIANA, Emanuel, Fabián, Noelia, Francsica, FEDERICO, Fernanda, GONZALO, Nancy\"\"\"\n",
    "goals = [0, 10, 4, 0, 5, 14, 0, 0, 7, 2, 1, 1, 1, 5, 6, 1, 1, 2, 0,\n",
    "11]\n",
    "goals_avoided = [0, 2, 0, 0, 5, 2, 0, 0, 1, 2, 0, 5, 5, 0, 1, 0, 2,\n",
    "3, 0, 0]\n",
    "assists = [0, 5, 1, 0, 5, 2, 0, 0, 1, 2, 1, 5, 5, 0, 1, 0, 2, 3, 1,\n",
    "0]"
   ]
  },
  {
   "cell_type": "markdown",
   "id": "9094a04a-60a3-41a7-9ca6-b9ebc0d37e81",
   "metadata": {},
   "source": [
    "### Creacion de tupla que junte estadisticas y nombres"
   ]
  },
  {
   "cell_type": "code",
   "execution_count": 3,
   "id": "40c400e4-bf08-4bb6-a934-f36991e12123",
   "metadata": {},
   "outputs": [
    {
     "data": {
      "text/plain": [
       "(('Agustin', 0, 0, 0),\n",
       " ('Yanina', 10, 2, 5),\n",
       " ('Andrés', 4, 0, 1),\n",
       " ('Ariadna', 0, 0, 0),\n",
       " ('Bautista', 5, 5, 5),\n",
       " ('CAROLINA', 14, 2, 2),\n",
       " ('CESAR', 0, 0, 0),\n",
       " ('David', 0, 0, 0),\n",
       " ('Diego', 7, 1, 1),\n",
       " ('Dolores', 2, 2, 2),\n",
       " ('DYLAN', 1, 0, 1),\n",
       " ('ELIANA', 1, 5, 5),\n",
       " ('Emanuel', 1, 5, 5),\n",
       " ('Fabián', 5, 0, 0),\n",
       " ('Noelia', 6, 1, 1),\n",
       " ('Francsica', 1, 0, 0),\n",
       " ('FEDERICO', 1, 2, 2),\n",
       " ('Fernanda', 2, 3, 3),\n",
       " ('GONZALO', 0, 0, 1),\n",
       " ('Nancy', 11, 0, 0))"
      ]
     },
     "execution_count": 3,
     "metadata": {},
     "output_type": "execute_result"
    }
   ],
   "source": [
    "tupla = moduloOperador.juntarListas(names, goals, goals_avoided, assists)\n",
    "tupla"
   ]
  },
  {
   "cell_type": "markdown",
   "id": "a68804fb-c634-4185-8c4a-fc03a5fd193b",
   "metadata": {},
   "source": [
    "### Obtener tupla que represente al goleador/a e imprimir datos"
   ]
  },
  {
   "cell_type": "code",
   "execution_count": 4,
   "id": "10eff28e-bca9-4a33-866f-c11e3021768d",
   "metadata": {},
   "outputs": [
    {
     "name": "stdout",
     "output_type": "stream",
     "text": [
      "El mayor goleador/a del torneo es CAROLINA con 14 goles\n"
     ]
    }
   ],
   "source": [
    "goleador = moduloOperador.getGoleador(tupla)\n",
    "print(f\"El mayor goleador/a del torneo es {goleador[0]} con {goleador[1]} goles\")"
   ]
  },
  {
   "cell_type": "markdown",
   "id": "d9cbdfca-d5cf-4d31-8057-1892df667a49",
   "metadata": {},
   "source": [
    "### Obtener nombre del jugador/a mas influyente e imprimirlo"
   ]
  },
  {
   "cell_type": "code",
   "execution_count": 5,
   "id": "9ecc80c8-6a2d-4f91-8a23-3df32c94fc45",
   "metadata": {},
   "outputs": [
    {
     "name": "stdout",
     "output_type": "stream",
     "text": [
      "El jugador/a mas influyente del torneo fue CAROLINA\n"
     ]
    }
   ],
   "source": [
    "influyente = moduloOperador.getMasInfluyente(tupla)\n",
    "print(f\"El jugador/a mas influyente del torneo fue {influyente}\")"
   ]
  },
  {
   "cell_type": "markdown",
   "id": "2650bce6-e6ce-4a10-ade4-e09ef170779e",
   "metadata": {},
   "source": [
    "### Obtener promedio de goles por partido e imprimirlo"
   ]
  },
  {
   "cell_type": "code",
   "execution_count": 7,
   "id": "a1296307-4c5f-40c3-9138-88b21e9bdb36",
   "metadata": {},
   "outputs": [
    {
     "name": "stdout",
     "output_type": "stream",
     "text": [
      "El promedio de goles del equipo en el torneo fue de 2.84 goles por partido\n"
     ]
    }
   ],
   "source": [
    "promedio = moduloOperador.getPromedioGoles(tupla)\n",
    "print(f\"El promedio de goles del equipo en el torneo fue de {promedio} goles por partido\")"
   ]
  },
  {
   "cell_type": "markdown",
   "id": "7df41040-6c0b-42c2-8878-aa89bc6f824f",
   "metadata": {},
   "source": [
    "### Obtener promedio de goles por partido del goleador/a e imprimirlo"
   ]
  },
  {
   "cell_type": "code",
   "execution_count": 8,
   "id": "9ebe4b9b-7cc8-4ed1-85f5-05c6d65ab063",
   "metadata": {},
   "outputs": [
    {
     "name": "stdout",
     "output_type": "stream",
     "text": [
      "El promedio de goles del goleador/a CAROLINA fue de 0.56 goles por partido\n"
     ]
    }
   ],
   "source": [
    "promgoleador=moduloOperador.getPromedioGoleador(goleador)\n",
    "print(f\"El promedio de goles del goleador/a {goleador[0]} fue de {promgoleador} goles por partido\")"
   ]
  },
  {
   "cell_type": "code",
   "execution_count": null,
   "id": "d3799769-2fe9-4a73-96b2-89bc2bf4adfc",
   "metadata": {},
   "outputs": [],
   "source": []
  }
 ],
 "metadata": {
  "kernelspec": {
   "display_name": "Python 3 (ipykernel)",
   "language": "python",
   "name": "python3"
  },
  "language_info": {
   "codemirror_mode": {
    "name": "ipython",
    "version": 3
   },
   "file_extension": ".py",
   "mimetype": "text/x-python",
   "name": "python",
   "nbconvert_exporter": "python",
   "pygments_lexer": "ipython3",
   "version": "3.11.7"
  }
 },
 "nbformat": 4,
 "nbformat_minor": 5
}
